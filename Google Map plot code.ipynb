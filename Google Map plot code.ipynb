{
 "cells": [
  {
   "cell_type": "code",
   "execution_count": 1,
   "metadata": {},
   "outputs": [
    {
     "name": "stdout",
     "output_type": "stream",
     "text": [
      "Populating the interactive namespace from numpy and matplotlib\n"
     ]
    },
    {
     "name": "stderr",
     "output_type": "stream",
     "text": [
      "/Library/Frameworks/Python.framework/Versions/2.7/lib/python2.7/site-packages/IPython/core/magics/pylab.py:161: UserWarning: pylab import has clobbered these variables: ['datetime', 'time']\n",
      "`%matplotlib` prevents importing * from pylab and numpy\n",
      "  \"\\n`%matplotlib` prevents importing * from pylab and numpy\"\n"
     ]
    }
   ],
   "source": [
    "from datetime import *\n",
    "from gmplot import gmplot\n",
    "import pandas as pd\n",
    "%pylab inline"
   ]
  },
  {
   "cell_type": "code",
   "execution_count": 2,
   "metadata": {},
   "outputs": [],
   "source": [
    "#read dataset and take a look\n",
    "stations = pd.read_csv(\"austin-bike/austin_bikeshare_stations.csv\")\n",
    "trips = pd.read_csv(\"austin-bike/austin_bikeshare_trips.csv\")\n",
    "\n",
    "trips[:5]\n",
    "\n",
    "#transfer time into datetime\n",
    "trips[\"start_time\"] = trips[\"start_time\"].map(lambda x : datetime.datetime.strptime(x, \"%Y-%m-%d %H:%M:%S\"))\n",
    "\n",
    "trips[\"hours\"] = trips[\"start_time\"].map(lambda x : x.hour)"
   ]
  },
  {
   "cell_type": "code",
   "execution_count": 4,
   "metadata": {},
   "outputs": [],
   "source": [
    "end = datetime.datetime.strptime(\"2017\", \"%Y\")\n",
    "start = datetime.datetime.strptime(\"2014\", \"%Y\")\n",
    "trips_t_control = trips[(trips[\"start_time\"] > start) & (trips[\"start_time\"] <= end)]"
   ]
  },
  {
   "cell_type": "code",
   "execution_count": 5,
   "metadata": {},
   "outputs": [],
   "source": [
    "def hours_to_category(hours):\n",
    "    if hours >= 7 and hours <= 9:\n",
    "        return \"rush_m\"\n",
    "    elif hours >= 10 and hours <= 4:\n",
    "        return \"day time\"\n",
    "    elif hours >=5 and hours <= 7:\n",
    "        return \"rush_n\"\n",
    "    else:\n",
    "        return \"others\""
   ]
  },
  {
   "cell_type": "code",
   "execution_count": 6,
   "metadata": {},
   "outputs": [
    {
     "name": "stderr",
     "output_type": "stream",
     "text": [
      "/Library/Frameworks/Python.framework/Versions/2.7/lib/python2.7/site-packages/ipykernel_launcher.py:1: SettingWithCopyWarning: \n",
      "A value is trying to be set on a copy of a slice from a DataFrame.\n",
      "Try using .loc[row_indexer,col_indexer] = value instead\n",
      "\n",
      "See the caveats in the documentation: http://pandas.pydata.org/pandas-docs/stable/indexing.html#indexing-view-versus-copy\n",
      "  \"\"\"Entry point for launching an IPython kernel.\n"
     ]
    }
   ],
   "source": [
    "trips_t_control[\"time_cat\"] = trips_t_control[\"hours\"].map(hours_to_category)\n"
   ]
  },
  {
   "cell_type": "code",
   "execution_count": 7,
   "metadata": {
    "collapsed": true
   },
   "outputs": [
    {
     "data": {
      "text/html": [
       "<div>\n",
       "<style scoped>\n",
       "    .dataframe tbody tr th:only-of-type {\n",
       "        vertical-align: middle;\n",
       "    }\n",
       "\n",
       "    .dataframe tbody tr th {\n",
       "        vertical-align: top;\n",
       "    }\n",
       "\n",
       "    .dataframe thead th {\n",
       "        text-align: right;\n",
       "    }\n",
       "</style>\n",
       "<table border=\"1\" class=\"dataframe\">\n",
       "  <thead>\n",
       "    <tr style=\"text-align: right;\">\n",
       "      <th></th>\n",
       "      <th>latitude</th>\n",
       "      <th>location</th>\n",
       "      <th>longitude</th>\n",
       "      <th>name</th>\n",
       "      <th>station_id</th>\n",
       "      <th>status</th>\n",
       "    </tr>\n",
       "  </thead>\n",
       "  <tbody>\n",
       "    <tr>\n",
       "      <th>0</th>\n",
       "      <td>30.27041</td>\n",
       "      <td>(30.27041 -97.75046)</td>\n",
       "      <td>-97.75046</td>\n",
       "      <td>West &amp; 6th St.</td>\n",
       "      <td>2537</td>\n",
       "      <td>active</td>\n",
       "    </tr>\n",
       "    <tr>\n",
       "      <th>9</th>\n",
       "      <td>30.28576</td>\n",
       "      <td>(30.28576 -97.74181)</td>\n",
       "      <td>-97.74181</td>\n",
       "      <td>UT West Mall @ Guadalupe</td>\n",
       "      <td>2548</td>\n",
       "      <td>active</td>\n",
       "    </tr>\n",
       "    <tr>\n",
       "      <th>10</th>\n",
       "      <td>30.27336</td>\n",
       "      <td>(30.27336 -97.73805)</td>\n",
       "      <td>-97.73805</td>\n",
       "      <td>State Capitol Visitors Garage @ San Jacinto &amp; ...</td>\n",
       "      <td>2561</td>\n",
       "      <td>active</td>\n",
       "    </tr>\n",
       "    <tr>\n",
       "      <th>17</th>\n",
       "      <td>30.27466</td>\n",
       "      <td>(30.27466 -97.77028)</td>\n",
       "      <td>-97.77028</td>\n",
       "      <td>MoPac Pedestrian Bridge @ Veterans Drive</td>\n",
       "      <td>3377</td>\n",
       "      <td>active</td>\n",
       "    </tr>\n",
       "    <tr>\n",
       "      <th>21</th>\n",
       "      <td>30.27217</td>\n",
       "      <td>(30.27217 -97.75246)</td>\n",
       "      <td>-97.75246</td>\n",
       "      <td>Henderson &amp; 9th</td>\n",
       "      <td>3685</td>\n",
       "      <td>active</td>\n",
       "    </tr>\n",
       "    <tr>\n",
       "      <th>31</th>\n",
       "      <td>30.27193</td>\n",
       "      <td>(30.27193 -97.73854)</td>\n",
       "      <td>-97.73854</td>\n",
       "      <td>11th &amp; San Jacinto</td>\n",
       "      <td>3291</td>\n",
       "      <td>active</td>\n",
       "    </tr>\n",
       "    <tr>\n",
       "      <th>38</th>\n",
       "      <td>30.27186</td>\n",
       "      <td>(30.27186 -97.73997)</td>\n",
       "      <td>-97.73997</td>\n",
       "      <td>OFFICE/Main/Shop/Repair</td>\n",
       "      <td>1001</td>\n",
       "      <td>active</td>\n",
       "    </tr>\n",
       "    <tr>\n",
       "      <th>53</th>\n",
       "      <td>30.27260</td>\n",
       "      <td>(30.2726 -97.74127)</td>\n",
       "      <td>-97.74127</td>\n",
       "      <td>Capitol Station / Congress &amp; 11th</td>\n",
       "      <td>2497</td>\n",
       "      <td>active</td>\n",
       "    </tr>\n",
       "    <tr>\n",
       "      <th>56</th>\n",
       "      <td>30.28118</td>\n",
       "      <td>(30.28118 -97.75219)</td>\n",
       "      <td>-97.75219</td>\n",
       "      <td>Pease Park</td>\n",
       "      <td>3464</td>\n",
       "      <td>active</td>\n",
       "    </tr>\n",
       "    <tr>\n",
       "      <th>57</th>\n",
       "      <td>30.28039</td>\n",
       "      <td>(30.28039 -97.73809)</td>\n",
       "      <td>-97.73809</td>\n",
       "      <td>Bullock Museum @ Congress &amp; MLK</td>\n",
       "      <td>2538</td>\n",
       "      <td>active</td>\n",
       "    </tr>\n",
       "    <tr>\n",
       "      <th>58</th>\n",
       "      <td>30.27974</td>\n",
       "      <td>(30.27974 -97.74254)</td>\n",
       "      <td>-97.74254</td>\n",
       "      <td>17th &amp; Guadalupe</td>\n",
       "      <td>2540</td>\n",
       "      <td>active</td>\n",
       "    </tr>\n",
       "    <tr>\n",
       "      <th>64</th>\n",
       "      <td>30.27616</td>\n",
       "      <td>(30.27616 -97.74488)</td>\n",
       "      <td>-97.74488</td>\n",
       "      <td>13th &amp; San Antonio</td>\n",
       "      <td>3635</td>\n",
       "      <td>active</td>\n",
       "    </tr>\n",
       "    <tr>\n",
       "      <th>71</th>\n",
       "      <td>30.27654</td>\n",
       "      <td>(30.27654 -97.74155)</td>\n",
       "      <td>-97.74155</td>\n",
       "      <td>State Capitol @ 14th &amp; Colorado</td>\n",
       "      <td>2541</td>\n",
       "      <td>active</td>\n",
       "    </tr>\n",
       "  </tbody>\n",
       "</table>\n",
       "</div>"
      ],
      "text/plain": [
       "    latitude              location  longitude  \\\n",
       "0   30.27041  (30.27041 -97.75046)  -97.75046   \n",
       "9   30.28576  (30.28576 -97.74181)  -97.74181   \n",
       "10  30.27336  (30.27336 -97.73805)  -97.73805   \n",
       "17  30.27466  (30.27466 -97.77028)  -97.77028   \n",
       "21  30.27217  (30.27217 -97.75246)  -97.75246   \n",
       "31  30.27193  (30.27193 -97.73854)  -97.73854   \n",
       "38  30.27186  (30.27186 -97.73997)  -97.73997   \n",
       "53  30.27260   (30.2726 -97.74127)  -97.74127   \n",
       "56  30.28118  (30.28118 -97.75219)  -97.75219   \n",
       "57  30.28039  (30.28039 -97.73809)  -97.73809   \n",
       "58  30.27974  (30.27974 -97.74254)  -97.74254   \n",
       "64  30.27616  (30.27616 -97.74488)  -97.74488   \n",
       "71  30.27654  (30.27654 -97.74155)  -97.74155   \n",
       "\n",
       "                                                 name  station_id  status  \n",
       "0                                      West & 6th St.        2537  active  \n",
       "9                            UT West Mall @ Guadalupe        2548  active  \n",
       "10  State Capitol Visitors Garage @ San Jacinto & ...        2561  active  \n",
       "17           MoPac Pedestrian Bridge @ Veterans Drive        3377  active  \n",
       "21                                    Henderson & 9th        3685  active  \n",
       "31                                 11th & San Jacinto        3291  active  \n",
       "38                            OFFICE/Main/Shop/Repair        1001  active  \n",
       "53                  Capitol Station / Congress & 11th        2497  active  \n",
       "56                                         Pease Park        3464  active  \n",
       "57                    Bullock Museum @ Congress & MLK        2538  active  \n",
       "58                                   17th & Guadalupe        2540  active  \n",
       "64                                 13th & San Antonio        3635  active  \n",
       "71                    State Capitol @ 14th & Colorado        2541  active  "
      ]
     },
     "execution_count": 7,
     "metadata": {},
     "output_type": "execute_result"
    }
   ],
   "source": [
    "stations_close_McCombs = stations[(stations[\"latitude\"] < 30.30) & (stations[\"latitude\"] > 30.27) \\\n",
    "                                  & (stations[\"longitude\"] < -97.6) & (stations[\"longitude\"] > -97.8)\\\n",
    "                                 & (stations[\"status\"] == \"active\")]\n",
    "stations_close_McCombs"
   ]
  },
  {
   "cell_type": "code",
   "execution_count": 8,
   "metadata": {},
   "outputs": [
    {
     "data": {
      "text/html": [
       "<div>\n",
       "<style scoped>\n",
       "    .dataframe tbody tr th:only-of-type {\n",
       "        vertical-align: middle;\n",
       "    }\n",
       "\n",
       "    .dataframe tbody tr th {\n",
       "        vertical-align: top;\n",
       "    }\n",
       "\n",
       "    .dataframe thead th {\n",
       "        text-align: right;\n",
       "    }\n",
       "</style>\n",
       "<table border=\"1\" class=\"dataframe\">\n",
       "  <thead>\n",
       "    <tr style=\"text-align: right;\">\n",
       "      <th></th>\n",
       "      <th>start_station_id</th>\n",
       "      <th>time_cat</th>\n",
       "      <th>station_id</th>\n",
       "      <th>latitude</th>\n",
       "      <th>longitude</th>\n",
       "      <th>location</th>\n",
       "    </tr>\n",
       "  </thead>\n",
       "  <tbody>\n",
       "    <tr>\n",
       "      <th>0</th>\n",
       "      <td>2538.0</td>\n",
       "      <td>others</td>\n",
       "      <td>2538</td>\n",
       "      <td>30.28039</td>\n",
       "      <td>-97.73809</td>\n",
       "      <td>(30.28039 -97.73809)</td>\n",
       "    </tr>\n",
       "    <tr>\n",
       "      <th>1</th>\n",
       "      <td>2538.0</td>\n",
       "      <td>others</td>\n",
       "      <td>2538</td>\n",
       "      <td>30.28039</td>\n",
       "      <td>-97.73809</td>\n",
       "      <td>(30.28039 -97.73809)</td>\n",
       "    </tr>\n",
       "    <tr>\n",
       "      <th>2</th>\n",
       "      <td>2538.0</td>\n",
       "      <td>others</td>\n",
       "      <td>2538</td>\n",
       "      <td>30.28039</td>\n",
       "      <td>-97.73809</td>\n",
       "      <td>(30.28039 -97.73809)</td>\n",
       "    </tr>\n",
       "    <tr>\n",
       "      <th>3</th>\n",
       "      <td>2538.0</td>\n",
       "      <td>others</td>\n",
       "      <td>2538</td>\n",
       "      <td>30.28039</td>\n",
       "      <td>-97.73809</td>\n",
       "      <td>(30.28039 -97.73809)</td>\n",
       "    </tr>\n",
       "    <tr>\n",
       "      <th>4</th>\n",
       "      <td>2538.0</td>\n",
       "      <td>others</td>\n",
       "      <td>2538</td>\n",
       "      <td>30.28039</td>\n",
       "      <td>-97.73809</td>\n",
       "      <td>(30.28039 -97.73809)</td>\n",
       "    </tr>\n",
       "  </tbody>\n",
       "</table>\n",
       "</div>"
      ],
      "text/plain": [
       "   start_station_id time_cat  station_id  latitude  longitude  \\\n",
       "0            2538.0   others        2538  30.28039  -97.73809   \n",
       "1            2538.0   others        2538  30.28039  -97.73809   \n",
       "2            2538.0   others        2538  30.28039  -97.73809   \n",
       "3            2538.0   others        2538  30.28039  -97.73809   \n",
       "4            2538.0   others        2538  30.28039  -97.73809   \n",
       "\n",
       "               location  \n",
       "0  (30.28039 -97.73809)  \n",
       "1  (30.28039 -97.73809)  \n",
       "2  (30.28039 -97.73809)  \n",
       "3  (30.28039 -97.73809)  \n",
       "4  (30.28039 -97.73809)  "
      ]
     },
     "execution_count": 8,
     "metadata": {},
     "output_type": "execute_result"
    }
   ],
   "source": [
    "borrow_heatmap_df = trips_t_control[[\"start_station_id\",\"time_cat\"]].merge(stations_close_McCombs[[\"station_id\", \"latitude\", \"longitude\",\"location\"]],\n",
    "                                                                           left_on = \"start_station_id\",\n",
    "                                                                          right_on = \"station_id\")\n",
    "borrow_heatmap_df[:5]"
   ]
  },
  {
   "cell_type": "code",
   "execution_count": 9,
   "metadata": {},
   "outputs": [
    {
     "data": {
      "text/plain": [
       "array([0.15154806, 0.03105054, 0.25002604, 0.05867912, 0.07602696,\n",
       "       0.06152084, 0.09450553, 0.13605999, 0.00496928, 0.13561365])"
      ]
     },
     "execution_count": 9,
     "metadata": {},
     "output_type": "execute_result"
    }
   ],
   "source": [
    "rush_m_heatmap_df = borrow_heatmap_df[borrow_heatmap_df[\"time_cat\"] == \"rush_m\"]\n",
    "rush_m_heatmap_weight = borrow_heatmap_df.groupby([\"latitude\", \"longitude\"])[\"location\"].count()\n",
    "rush_m_station_lat , rush_m_station_lon = zip(*rush_m_heatmap_weight.index.values)\n",
    "#rush_m_heatmap_weight.values\n",
    "\n",
    "rush_m_heatmap_weight_p = rush_m_heatmap_weight.values/ float(sum(rush_m_heatmap_weight.values))\n",
    "rush_m_heatmap_weight_p"
   ]
  },
  {
   "cell_type": "code",
   "execution_count": 10,
   "metadata": {},
   "outputs": [],
   "source": [
    "gmap = gmplot.GoogleMapPlotter(30.28398,-97.73792, 13)\n",
    "\n",
    "\n",
    "for i in range(0, len(rush_m_station_lat)):\n",
    "    gmap.heatmap([rush_m_station_lat[i]], [rush_m_station_lon[i]], radius = rush_m_heatmap_weight_p[i] * 300)\n",
    "# Draw\n",
    "gmap.draw(\"rush_hour_in_morning.html\")"
   ]
  }
 ],
 "metadata": {
  "kernelspec": {
   "display_name": "Python 2",
   "language": "python",
   "name": "python2"
  },
  "language_info": {
   "codemirror_mode": {
    "name": "ipython",
    "version": 2
   },
   "file_extension": ".py",
   "mimetype": "text/x-python",
   "name": "python",
   "nbconvert_exporter": "python",
   "pygments_lexer": "ipython2",
   "version": "2.7.15"
  }
 },
 "nbformat": 4,
 "nbformat_minor": 2
}
