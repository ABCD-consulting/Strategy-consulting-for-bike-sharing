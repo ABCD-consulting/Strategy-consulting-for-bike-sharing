{
 "cells": [
  {
   "cell_type": "code",
   "execution_count": 78,
   "metadata": {},
   "outputs": [
    {
     "name": "stdout",
     "output_type": "stream",
     "text": [
      "Populating the interactive namespace from numpy and matplotlib\n"
     ]
    }
   ],
   "source": [
    "from pandas import Series, DataFrame\n",
    "import pandas as pd\n",
    "from patsy import dmatrices\n",
    "import statsmodels.api as sm\n",
    "%pylab inline"
   ]
  },
  {
   "cell_type": "code",
   "execution_count": 51,
   "metadata": {},
   "outputs": [],
   "source": [
    "#raw_data\n",
    "df1 = pd.read_csv(\"Bike_Share_DF_CLEANED_1.csv\")\n",
    "df2 = pd.read_csv(\"Bike_Share_DF_CLEANED_2.csv\")\n",
    "df3 = pd.read_csv(\"Bike_Share_DF_CLEANED_3.csv\")\n",
    "df4 = pd.read_csv(\"Bike_Share_DF_CLEANED_4.csv\")\n",
    "df5 = pd.read_csv(\"Bike_Share_DF_CLEANED_5.csv\")\n",
    "df6 = pd.read_csv(\"Bike_Share_DF_CLEANED_6.csv\")\n",
    "df7 = pd.read_csv(\"Bike_Share_DF_CLEANED_7.csv\")"
   ]
  },
  {
   "cell_type": "code",
   "execution_count": 58,
   "metadata": {},
   "outputs": [
    {
     "data": {
      "text/plain": [
       "array([2015, 2014], dtype=int64)"
      ]
     },
     "execution_count": 58,
     "metadata": {},
     "output_type": "execute_result"
    }
   ],
   "source": [
    "\n",
    "df = df1.append([df2,df3,df4,df5,df6,df7])\n",
    "# considering 2 years of data\n",
    "df = df[df['year'].isin(['2014','2015'])]"
   ]
  },
  {
   "cell_type": "code",
   "execution_count": 59,
   "metadata": {},
   "outputs": [],
   "source": [
    "# Prediction for rides for riverside lamar : 2575\n",
    "df_rs_start = df[df['start_station_id'] == 2575]\n",
    "\n",
    "## Aggregating the number of rides that starting at 2575 by hour onany given day\n",
    "df_rs_start_agg = pd.DataFrame(df_rs_start.groupby(['start_station_id','start_station_name','Date','hour'])['trip_id'].\\\n",
    "                               count().reset_index())\n",
    "\n",
    "df_rs_end = df[df['end_station_id'] == 2575]\n",
    "\n",
    "## Aggregating the number of rides that starting at 2575 by hour onany given day\n",
    "df_rs_end_agg = pd.DataFrame(df_rs_end.groupby(['end_station_id','end_station_name','Date','hour'])['trip_id'].\\\n",
    "                               count().reset_index())\n",
    "\n",
    "df_rs_merged = df_rs_start_agg.merge(df_rs_end_agg,on = ['Date','hour'],suffixes = ['_start','_end'])\n"
   ]
  },
  {
   "cell_type": "code",
   "execution_count": 60,
   "metadata": {},
   "outputs": [],
   "source": [
    "df_rs_merged['diff'] = df_rs_merged['trip_id_start'] - df_rs_merged['trip_id_end']"
   ]
  },
  {
   "cell_type": "code",
   "execution_count": 81,
   "metadata": {},
   "outputs": [],
   "source": [
    "df_rs_temp = df_rs_merged[['start_station_id','start_station_name','Date','hour','trip_id_start']]\n",
    "df_date_info = df[['Date','month','weekday','TempAvgF','WindAvgMPH','Rain']].drop_duplicates()"
   ]
  },
  {
   "cell_type": "code",
   "execution_count": 82,
   "metadata": {},
   "outputs": [],
   "source": [
    "df_rs_final = df_rs_temp.merge(df_date_info,on = ['Date'])"
   ]
  },
  {
   "cell_type": "code",
   "execution_count": 83,
   "metadata": {},
   "outputs": [],
   "source": [
    "df_rs_model_data = df_rs_final.drop(['start_station_id', 'start_station_name','Date'], axis=1)\n",
    "\n",
    "df_rs_model_data['hour'] = df_rs_model_data['hour'].astype('category')\n",
    "df_rs_model_data['weekday'] = df_rs_model_data['weekday'].astype('category')\n",
    "df_rs_model_data['month'] = df_rs_model_data['month'].astype('category')\n",
    "df_rs_model_data['Rain'] = df_rs_model_data['Rain'].astype('category')"
   ]
  },
  {
   "cell_type": "code",
   "execution_count": null,
   "metadata": {},
   "outputs": [],
   "source": [
    "df_rs_fina"
   ]
  },
  {
   "cell_type": "code",
   "execution_count": 84,
   "metadata": {},
   "outputs": [],
   "source": [
    "y, X = dmatrices('trip_id_start ~ hour + month + weekday + TempAvgF + WindAvgMPH + Rain', data=df_rs_model_data, return_type='dataframe')"
   ]
  },
  {
   "cell_type": "code",
   "execution_count": 86,
   "metadata": {},
   "outputs": [
    {
     "name": "stdout",
     "output_type": "stream",
     "text": [
      "                            OLS Regression Results                            \n",
      "==============================================================================\n",
      "Dep. Variable:          trip_id_start   R-squared:                       0.159\n",
      "Model:                            OLS   Adj. R-squared:                  0.148\n",
      "Method:                 Least Squares   F-statistic:                     15.00\n",
      "Date:                Sun, 12 Aug 2018   Prob (F-statistic):           4.66e-98\n",
      "Time:                        17:53:41   Log-Likelihood:                -7931.0\n",
      "No. Observations:                3455   AIC:                         1.595e+04\n",
      "Df Residuals:                    3411   BIC:                         1.622e+04\n",
      "Df Model:                          43                                         \n",
      "Covariance Type:            nonrobust                                         \n",
      "=================================================================================\n",
      "                    coef    std err          t      P>|t|      [0.025      0.975]\n",
      "---------------------------------------------------------------------------------\n",
      "Intercept         1.0206      0.686      1.487      0.137      -0.325       2.366\n",
      "hour[T.1L]        0.1528      1.184      0.129      0.897      -2.168       2.473\n",
      "hour[T.2L]       -1.4154      1.303     -1.087      0.277      -3.970       1.139\n",
      "hour[T.3L]       -0.5397      1.302     -0.415      0.678      -3.092       2.012\n",
      "hour[T.4L]       -0.3120      1.778     -0.175      0.861      -3.798       3.174\n",
      "hour[T.5L]       -0.8226      2.468     -0.333      0.739      -5.662       4.017\n",
      "hour[T.6L]       -0.6686      0.872     -0.766      0.444      -2.379       1.042\n",
      "hour[T.7L]       -0.5441      0.617     -0.882      0.378      -1.754       0.666\n",
      "hour[T.8L]       -0.6316      0.563     -1.122      0.262      -1.735       0.472\n",
      "hour[T.9L]       -0.2226      0.524     -0.425      0.671      -1.250       0.805\n",
      "hour[T.10L]       0.2944      0.506      0.582      0.561      -0.698       1.287\n",
      "hour[T.11L]       0.9176      0.499      1.839      0.066      -0.061       1.896\n",
      "hour[T.12L]       1.3386      0.496      2.701      0.007       0.367       2.310\n",
      "hour[T.13L]       1.7449      0.494      3.529      0.000       0.775       2.714\n",
      "hour[T.14L]       1.9734      0.495      3.985      0.000       1.002       2.944\n",
      "hour[T.15L]       1.6196      0.495      3.271      0.001       0.649       2.590\n",
      "hour[T.16L]       1.4529      0.495      2.934      0.003       0.482       2.424\n",
      "hour[T.17L]       1.1215      0.498      2.253      0.024       0.145       2.098\n",
      "hour[T.18L]       1.1682      0.498      2.345      0.019       0.192       2.145\n",
      "hour[T.19L]       0.9473      0.498      1.902      0.057      -0.029       1.924\n",
      "hour[T.20L]       0.7344      0.511      1.436      0.151      -0.268       1.737\n",
      "hour[T.21L]       0.4481      0.528      0.849      0.396      -0.587       1.483\n",
      "hour[T.22L]       0.4181      0.561      0.745      0.457      -0.683       1.519\n",
      "hour[T.23L]      -0.0496      0.640     -0.077      0.938      -1.305       1.206\n",
      "month[T.2L]      -0.0335      0.353     -0.095      0.924      -0.726       0.659\n",
      "month[T.3L]      -0.2178      0.286     -0.763      0.446      -0.778       0.342\n",
      "month[T.4L]      -0.4069      0.307     -1.327      0.185      -1.008       0.194\n",
      "month[T.5L]      -0.6020      0.320     -1.880      0.060      -1.230       0.026\n",
      "month[T.6L]      -1.3105      0.346     -3.784      0.000      -1.989      -0.631\n",
      "month[T.7L]      -1.4479      0.358     -4.046      0.000      -2.150      -0.746\n",
      "month[T.8L]      -1.8248      0.374     -4.879      0.000      -2.558      -1.092\n",
      "month[T.9L]      -1.6320      0.353     -4.622      0.000      -2.324      -0.940\n",
      "month[T.10L]     -0.9405      0.315     -2.984      0.003      -1.558      -0.323\n",
      "month[T.11L]     -0.6315      0.299     -2.109      0.035      -1.219      -0.044\n",
      "month[T.12L]     -0.7704      0.295     -2.611      0.009      -1.349      -0.192\n",
      "weekday[T.1L]    -0.2930      0.171     -1.716      0.086      -0.628       0.042\n",
      "weekday[T.2L]    -0.1482      0.170     -0.873      0.383      -0.481       0.185\n",
      "weekday[T.3L]    -0.1780      0.170     -1.050      0.294      -0.511       0.155\n",
      "weekday[T.4L]     0.5171      0.160      3.234      0.001       0.204       0.831\n",
      "weekday[T.5L]     1.4769      0.148      9.969      0.000       1.186       1.767\n",
      "weekday[T.6L]     1.1414      0.150      7.615      0.000       0.848       1.435\n",
      "Rain[T.1L]       -0.4319      0.104     -4.150      0.000      -0.636      -0.228\n",
      "TempAvgF          0.0281      0.008      3.607      0.000       0.013       0.043\n",
      "WindAvgMPH       -0.0629      0.022     -2.818      0.005      -0.107      -0.019\n",
      "==============================================================================\n",
      "Omnibus:                     1375.161   Durbin-Watson:                   1.843\n",
      "Prob(Omnibus):                  0.000   Jarque-Bera (JB):             7262.984\n",
      "Skew:                           1.837   Prob(JB):                         0.00\n",
      "Kurtosis:                       9.079   Cond. No.                     4.84e+03\n",
      "==============================================================================\n",
      "\n",
      "Warnings:\n",
      "[1] Standard Errors assume that the covariance matrix of the errors is correctly specified.\n",
      "[2] The condition number is large, 4.84e+03. This might indicate that there are\n",
      "strong multicollinearity or other numerical problems.\n"
     ]
    },
    {
     "data": {
      "text/plain": [
       "<statsmodels.regression.linear_model.RegressionResultsWrapper at 0x2656a358>"
      ]
     },
     "execution_count": 86,
     "metadata": {},
     "output_type": "execute_result"
    }
   ],
   "source": [
    "model = sm.OLS(y, X)       # Set up the model\n",
    "result = model.fit()       # Fit model (find the intercept and slopes)\n",
    "print result.summary()\n"
   ]
  }
 ],
 "metadata": {
  "kernelspec": {
   "display_name": "Python 2",
   "language": "python",
   "name": "python2"
  },
  "language_info": {
   "codemirror_mode": {
    "name": "ipython",
    "version": 2
   },
   "file_extension": ".py",
   "mimetype": "text/x-python",
   "name": "python",
   "nbconvert_exporter": "python",
   "pygments_lexer": "ipython2",
   "version": "2.7.15"
  }
 },
 "nbformat": 4,
 "nbformat_minor": 2
}
